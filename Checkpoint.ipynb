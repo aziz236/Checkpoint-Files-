{
 "cells": [
  {
   "cell_type": "code",
   "execution_count": 88,
   "id": "d57b065b",
   "metadata": {},
   "outputs": [
    {
     "name": "stdout",
     "output_type": "stream",
     "text": [
      "What is Python language?                                                \n",
      "Python is a widely used high-level, general-purpose, interpreted, dynamic programming language.Its design philosophy emphasizes code readability, and its syntax allows programmers to express concepts in fewer lines of code than possible in \n",
      "languages such as C++ or Java. \n",
      "Python supports multiple programming paradigms, including object-oriented, imperative and functional programming or procedural styles. It features a dynamic type system and automatic memory management and has a large and comprehensive standard library.The best way we learn anything is by practice and exercise questions. We  have started this section for those (beginner to intermediate) who are familiar with Python.\n"
     ]
    }
   ],
   "source": [
    "with open(\"python.txt\",\"r\") as f:\n",
    "    content=f.read()\n",
    "    print(content)"
   ]
  },
  {
   "cell_type": "code",
   "execution_count": 85,
   "id": "41d262a7",
   "metadata": {},
   "outputs": [
    {
     "name": "stdout",
     "output_type": "stream",
     "text": [
      "insert how many lines you want to read: 1\n",
      "What is Python language?                                                \n",
      "\n"
     ]
    }
   ],
   "source": [
    "with open(\"python.txt\",\"r\") as f:\n",
    "    first=int(input('insert how many lines you want to read: '))\n",
    "    i=0\n",
    "    while i<first:\n",
    "        print(f.readline())\n",
    "        i+=1\n",
    "    read=f.readlines()"
   ]
  },
  {
   "cell_type": "code",
   "execution_count": 82,
   "id": "ed6aafcf",
   "metadata": {},
   "outputs": [
    {
     "name": "stdout",
     "output_type": "stream",
     "text": [
      "how many lines would you like to read from the end:2\n",
      "Python supports multiple programming paradigms, including object-oriented, imperative and functional programming or procedural styles. It features a dynamic type system and automatic memory management and has a large and comprehensive standard library.The best way we learn anything is by practice and exercise questions. We  have started this section for those (beginner to intermediate) who are familiar with Python.\n",
      "languages such as C++ or Java. \n",
      "\n"
     ]
    }
   ],
   "source": [
    "with open(\"python.txt\",\"r\") as f:\n",
    "    lines=list()\n",
    "    for line in f:\n",
    "        lines.append(line)\n",
    "    i=-1\n",
    "    s=0\n",
    "    last=(int(input('how many lines would you like to read from the end:')))\n",
    "    while s<last and s<len(lines):\n",
    "        print(lines[i])\n",
    "        i+=-1\n",
    "        s+=1"
   ]
  },
  {
   "cell_type": "code",
   "execution_count": 87,
   "id": "bb5f6dc0",
   "metadata": {},
   "outputs": [
    {
     "name": "stdout",
     "output_type": "stream",
     "text": [
      "enter the file's name:python.txt\n",
      "Number of words: 100\n"
     ]
    }
   ],
   "source": [
    "with open(input(\"enter the file's name:\"),\"r\") as f:\n",
    "    content=f.read()\n",
    "    new_content=(content.split())\n",
    "    print(\"Number of words:\",len(new_content))"
   ]
  },
  {
   "cell_type": "code",
   "execution_count": null,
   "id": "9bee8876",
   "metadata": {},
   "outputs": [],
   "source": []
  }
 ],
 "metadata": {
  "kernelspec": {
   "display_name": "Python 3",
   "language": "python",
   "name": "python3"
  },
  "language_info": {
   "codemirror_mode": {
    "name": "ipython",
    "version": 3
   },
   "file_extension": ".py",
   "mimetype": "text/x-python",
   "name": "python",
   "nbconvert_exporter": "python",
   "pygments_lexer": "ipython3",
   "version": "3.8.8"
  }
 },
 "nbformat": 4,
 "nbformat_minor": 5
}
